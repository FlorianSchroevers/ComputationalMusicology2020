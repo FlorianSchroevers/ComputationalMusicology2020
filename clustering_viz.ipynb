{
 "cells": [
  {
   "cell_type": "code",
   "execution_count": 1,
   "metadata": {},
   "outputs": [],
   "source": [
    "import pandas as pd\n",
    "import plotly.express as px\n",
    "from sklearn.manifold import *\n",
    "\n",
    "import util"
   ]
  },
  {
   "cell_type": "code",
   "execution_count": 2,
   "metadata": {},
   "outputs": [
    {
     "name": "stdout",
     "output_type": "stream",
     "text": [
      "Playlist analysis: Old School Reggae Roots 70s/80s, with 378 tracks\n",
      "Playlist analysis: Heavy Dub Roots Reggae, with 835 tracks\n",
      "Playlist analysis: DEEP MEDi MUSIK & Tempa Records .. deep, with 617 tracks\n"
     ]
    }
   ],
   "source": [
    "# Playlist 1\n",
    "p1_name, p1_tracks = util.collect_tracks_query(\"old school reggae roots\", \"playlist\")\n",
    "df1 = util.get_tracklist_features(p1_tracks)\n",
    "print(f\"Playlist analysis: {p1_name}, with {len(p1_tracks)} tracks\")\n",
    "\n",
    "# Playlist 1\n",
    "p2_name, p2_tracks = util.collect_tracks_query(\"heavy dub roots reggae\", \"playlist\")\n",
    "df2 = util.get_tracklist_features(p2_tracks)\n",
    "print(f\"Playlist analysis: {p2_name}, with {len(p2_tracks)} tracks\")\n",
    "\n",
    "# Playlist 1\n",
    "p3_name, p3_tracks = util.collect_tracks_query(\"deep medi musik\", \"playlist\")\n",
    "df3 = util.get_tracklist_features(p3_tracks)\n",
    "print(f\"Playlist analysis: {p3_name}, with {len(p3_tracks)} tracks\")\n",
    "\n",
    "df1[\"playlist\"] = \"reggae\"\n",
    "df2[\"playlist\"] = \"dub\"\n",
    "df3[\"playlist\"] = \"dubstep\"\n",
    "complete_df = pd.concat([df1, df2, df3])\n",
    "\n",
    "distance_features = [\n",
    "    \"danceability\",\n",
    "    \"energy\",\n",
    "    \"speechiness\",\n",
    "    \"acousticness\",\n",
    "    \"instrumentalness\",\n",
    "    \"liveness\",\n",
    "    \"valence\"\n",
    "]"
   ]
  },
  {
   "cell_type": "code",
   "execution_count": 3,
   "metadata": {},
   "outputs": [
    {
     "ename": "NameError",
     "evalue": "name 'df' is not defined",
     "output_type": "error",
     "traceback": [
      "\u001b[0;31m---------------------------------------------------------------------------\u001b[0m",
      "\u001b[0;31mNameError\u001b[0m                                 Traceback (most recent call last)",
      "\u001b[0;32m<ipython-input-3-ca8050ab0c72>\u001b[0m in \u001b[0;36m<module>\u001b[0;34m\u001b[0m\n\u001b[1;32m      8\u001b[0m px.scatter_3d(data=complete_df, x=\"c1\", y=\"c2\", z=\"c3\", color=\"playlist\",\n\u001b[1;32m      9\u001b[0m                 \u001b[0mpalette\u001b[0m \u001b[0;34m=\u001b[0m \u001b[0;34m[\u001b[0m\u001b[0;34m\"#00992f\"\u001b[0m\u001b[0;34m,\u001b[0m \u001b[0;34m\"#f7ee00\"\u001b[0m\u001b[0;34m,\u001b[0m \u001b[0;34m\"#eb0000\"\u001b[0m\u001b[0;34m]\u001b[0m\u001b[0;34m,\u001b[0m\u001b[0;34m\u001b[0m\u001b[0;34m\u001b[0m\u001b[0m\n\u001b[0;32m---> 10\u001b[0;31m                 size_max=5, size=[1]*df.dropna().shape[0])\n\u001b[0m",
      "\u001b[0;31mNameError\u001b[0m: name 'df' is not defined"
     ]
    }
   ],
   "source": [
    "tsne = TSNE(n_components=3, perplexity=80)\n",
    "components = tsne.fit_transform(complete_df[distance_features].values)\n",
    "\n",
    "complete_df[\"c1\"] = components[:, 0]\n",
    "complete_df[\"c2\"] = components[:, 1]\n",
    "complete_df[\"c3\"] = components[:, 2]\n",
    "\n",
    "px.scatter_3d(data=complete_df, x=\"c1\", y=\"c2\", z=\"c3\", color=\"playlist\",\n",
    "                palette = [\"#00992f\", \"#f7ee00\", \"#eb0000\"], \n",
    "                size_max=5, size=[1]*df.dropna().shape[0])"
   ]
  },
  {
   "cell_type": "code",
   "execution_count": null,
   "metadata": {},
   "outputs": [],
   "source": [
    "lle = LocallyLinearEmbedding(n_components=3, n_neighbors=50)\n",
    "components = lle.fit_transform(complete_df[distance_features].values)\n",
    "\n",
    "complete_df[\"c1\"] = components[:, 0]\n",
    "complete_df[\"c2\"] = components[:, 1]\n",
    "complete_df[\"c3\"] = components[:, 2]\n",
    "\n",
    "px.scatter_3d(data=complete_df, x=\"c1\", y=\"c2\", z=\"c3\", color=\"playlist\",\n",
    "                palette = [\"#00992f\", \"#f7ee00\", \"#eb0000\"], \n",
    "                size_max=5, size=[1]*df.dropna().shape[0])"
   ]
  },
  {
   "cell_type": "code",
   "execution_count": null,
   "metadata": {},
   "outputs": [],
   "source": [
    "isomap = Isomap(n_components=3, n_neighbors=50)\n",
    "components = isomap.fit_transform(complete_df[distance_features].values)\n",
    "\n",
    "complete_df[\"c1\"] = components[:, 0]\n",
    "complete_df[\"c2\"] = components[:, 1]\n",
    "complete_df[\"c3\"] = components[:, 2]\n",
    "\n",
    "px.scatter_3d(data=complete_df, x=\"c1\", y=\"c2\", z=\"c3\", color=\"playlist\",\n",
    "                palette = [\"#00992f\", \"#f7ee00\", \"#eb0000\"], \n",
    "                size_max=5, size=[1]*df.dropna().shape[0])"
   ]
  },
  {
   "cell_type": "code",
   "execution_count": null,
   "metadata": {},
   "outputs": [],
   "source": [
    "mds = MDS(n_components=3)\n",
    "components = mds.fit_transform(complete_df[distance_features].values)\n",
    "\n",
    "complete_df[\"c1\"] = components[:, 0]\n",
    "complete_df[\"c2\"] = components[:, 1]\n",
    "complete_df[\"c3\"] = components[:, 2]\n",
    "\n",
    "px.scatter_3d(data=complete_df, x=\"c1\", y=\"c2\", z=\"c3\", color=\"playlist\",\n",
    "                palette = [\"#00992f\", \"#f7ee00\", \"#eb0000\"], \n",
    "                size_max=5, size=[1]*df.dropna().shape[0])"
   ]
  },
  {
   "cell_type": "code",
   "execution_count": null,
   "metadata": {},
   "outputs": [],
   "source": [
    "se = SpectralEmbedding(n_components=3)\n",
    "components = se.fit_transform(complete_df[distance_features].values)\n",
    "\n",
    "complete_df[\"c1\"] = components[:, 0]\n",
    "complete_df[\"c2\"] = components[:, 1]\n",
    "complete_df[\"c3\"] = components[:, 2]\n",
    "\n",
    "px.scatter_3d(data=complete_df, x=\"c1\", y=\"c2\", z=\"c3\", color=\"playlist\",\n",
    "                palette = [\"#00992f\", \"#f7ee00\", \"#eb0000\"], \n",
    "                size_max=5, size=[1]*df.dropna().shape[0])"
   ]
  },
  {
   "cell_type": "code",
   "execution_count": null,
   "metadata": {},
   "outputs": [],
   "source": []
  }
 ],
 "metadata": {
  "kernelspec": {
   "display_name": "Python 3",
   "language": "python",
   "name": "python3"
  },
  "language_info": {
   "codemirror_mode": {
    "name": "ipython",
    "version": 3
   },
   "file_extension": ".py",
   "mimetype": "text/x-python",
   "name": "python",
   "nbconvert_exporter": "python",
   "pygments_lexer": "ipython3",
   "version": "3.7.4"
  }
 },
 "nbformat": 4,
 "nbformat_minor": 2
}
